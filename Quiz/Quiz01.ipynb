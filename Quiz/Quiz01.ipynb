{
 "cells": [
  {
   "cell_type": "code",
   "execution_count": 4,
   "id": "5e58b115-b27f-4ad8-b0dd-b5de5f8e3eb3",
   "metadata": {},
   "outputs": [
    {
     "name": "stdout",
     "output_type": "stream",
     "text": [
      "파일 저장 경로: /Users/namin/Desktop/대학/3학년 1학기/인공지능개론/AI-Class/AI-Class/Quiz/mobile.csv\n",
      "Decision Tree 정확도: 0.8375\n",
      "Random Forest 정확도: 0.8925\n",
      "SVM 정확도: 0.8925\n",
      "Logistic Regression 정확도: 0.9775\n"
     ]
    }
   ],
   "source": [
    "#!/usr/bin/env python3\n",
    "# -*- coding: utf-8 -*-\n",
    "\"\"\"\n",
    "Created on Tue Mar 11 13:03:50 2025\n",
    "\n",
    "@author: namin\n",
    "\"\"\"\n",
    "\n",
    "import os\n",
    "import pandas as pd\n",
    "from sklearn.model_selection import train_test_split\n",
    "from sklearn.preprocessing import StandardScaler\n",
    "from sklearn.tree import DecisionTreeClassifier\n",
    "from sklearn.ensemble import RandomForestClassifier\n",
    "from sklearn.svm import SVC\n",
    "from sklearn.linear_model import LogisticRegression\n",
    "from sklearn.metrics import accuracy_score\n",
    "\n",
    "# 파일 경로 확인\n",
    "file_path = '/Users/namin/Desktop/대학/3학년 1학기/인공지능개론/AI-Class/AI-Class/Quiz/mobile.csv'\n",
    "print(f\"파일 저장 경로: {os.path.abspath(file_path)}\")\n",
    "\n",
    "# 데이터 읽기\n",
    "df = pd.read_csv(file_path)\n",
    "\n",
    "# 특성과 라벨 분리\n",
    "X = df.drop(columns=[\"price_range\"])  # 특성 (feature)\n",
    "y = df[\"price_range\"]  # 라벨 (target)\n",
    "\n",
    "# 데이터 정규화 (SVM과 Logistic Regression에서 성능 향상을 위해)\n",
    "scaler = StandardScaler()\n",
    "X_scaled = scaler.fit_transform(X)\n",
    "\n",
    "# 학습 데이터와 테스트 데이터 분할 (80% 학습, 20% 테스트)\n",
    "X_train, X_test, y_train, y_test = train_test_split(X_scaled, y, test_size=0.2, random_state=42)\n",
    "\n",
    "# Decision Tree 분류\n",
    "dt_model = DecisionTreeClassifier(random_state=42)\n",
    "dt_model.fit(X_train, y_train)\n",
    "dt_pred = dt_model.predict(X_test)\n",
    "dt_accuracy = accuracy_score(y_test, dt_pred)\n",
    "print(f\"Decision Tree 정확도: {dt_accuracy:.4f}\")\n",
    "\n",
    "# Random Forest 분류\n",
    "rf_model = RandomForestClassifier(random_state=42)\n",
    "rf_model.fit(X_train, y_train)\n",
    "rf_pred = rf_model.predict(X_test)\n",
    "rf_accuracy = accuracy_score(y_test, rf_pred)\n",
    "print(f\"Random Forest 정확도: {rf_accuracy:.4f}\")\n",
    "\n",
    "# SVM 분류\n",
    "svm_model = SVC(random_state=42)\n",
    "svm_model.fit(X_train, y_train)\n",
    "svm_pred = svm_model.predict(X_test)\n",
    "svm_accuracy = accuracy_score(y_test, svm_pred)\n",
    "print(f\"SVM 정확도: {svm_accuracy:.4f}\")\n",
    "\n",
    "# Logistic Regression 분류\n",
    "lr_model = LogisticRegression(max_iter=200)\n",
    "lr_model.fit(X_train, y_train)\n",
    "lr_pred = lr_model.predict(X_test)\n",
    "lr_accuracy = accuracy_score(y_test, lr_pred)\n",
    "print(f\"Logistic Regression 정확도: {lr_accuracy:.4f}\")\n"
   ]
  },
  {
   "cell_type": "code",
   "execution_count": null,
   "id": "d9c6562b-ff1c-4912-b89c-f7b0544fb6ff",
   "metadata": {},
   "outputs": [],
   "source": []
  }
 ],
 "metadata": {
  "kernelspec": {
   "display_name": "Python [conda env:base] *",
   "language": "python",
   "name": "conda-base-py"
  },
  "language_info": {
   "codemirror_mode": {
    "name": "ipython",
    "version": 3
   },
   "file_extension": ".py",
   "mimetype": "text/x-python",
   "name": "python",
   "nbconvert_exporter": "python",
   "pygments_lexer": "ipython3",
   "version": "3.11.7"
  }
 },
 "nbformat": 4,
 "nbformat_minor": 5
}
