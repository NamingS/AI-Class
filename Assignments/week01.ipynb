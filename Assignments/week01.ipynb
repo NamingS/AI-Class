{
 "cells": [
  {
   "cell_type": "code",
   "execution_count": null,
   "id": "5555f534-45db-4255-8c84-2d87a685851f",
   "metadata": {},
   "outputs": [],
   "source": [
    "import os\n",
    "import pandas as pd\n",
    "from sklearn.model_selection import train_test_split\n",
    "from sklearn.preprocessing import LabelEncoder\n",
    "from sklearn.tree import DecisionTreeClassifier\n",
    "from sklearn.ensemble import RandomForestClassifier\n",
    "from sklearn.svm import SVC\n",
    "from sklearn.linear_model import LogisticRegression\n",
    "from sklearn.metrics import accuracy_score\n",
    "\n",
    "# 파일 경로 확인\n",
    "file_path = \"/Users/namin/Desktop/대학/3학년 1학기/인공지능개론/AI-Class/AI-Class/week01/iris.csv\"\n",
    "print(f\"파일 저장 경로: {os.path.abspath(file_path)}\")\n",
    "\n",
    "# 데이터 읽기\n",
    "df = pd.read_csv(file_path)\n",
    "\n",
    "# 특성과 라벨 분리\n",
    "X = df.drop(columns=[\"Name\"])  # 특성 (feature)\n",
    "y = df[\"Name\"]  # 라벨 (target)\n",
    "\n",
    "# 라벨 인코딩 (문자형 데이터를 숫자로 변환)\n",
    "label_encoder = LabelEncoder()\n",
    "y_encoded = label_encoder.fit_transform(y)\n",
    "\n",
    "# 학습 데이터와 테스트 데이터 분할 (80% 학습, 20% 테스트)\n",
    "X_train, X_test, y_train, y_test = train_test_split(X, y_encoded, test_size=0.2, random_state=42)\n",
    "\n",
    "# Decision Tree 분류\n",
    "dt_model = DecisionTreeClassifier(random_state=42)\n",
    "dt_model.fit(X_train, y_train)\n",
    "dt_pred = dt_model.predict(X_test)\n",
    "dt_accuracy = accuracy_score(y_test, dt_pred)\n",
    "print(f\"Decision Tree 정확도: {dt_accuracy:.4f}\")\n",
    "\n",
    "# Random Forest 분류\n",
    "rf_model = RandomForestClassifier(random_state=42)\n",
    "rf_model.fit(X_train, y_train)\n",
    "rf_pred = rf_model.predict(X_test)\n",
    "rf_accuracy = accuracy_score(y_test, rf_pred)\n",
    "print(f\"Random Forest 정확도: {rf_accuracy:.4f}\")\n",
    "\n",
    "# SVM 분류\n",
    "svm_model = SVC(random_state=42)\n",
    "svm_model.fit(X_train, y_train)\n",
    "svm_pred = svm_model.predict(X_test)\n",
    "svm_accuracy = accuracy_score(y_test, svm_pred)\n",
    "print(f\"SVM 정확도: {svm_accuracy:.4f}\")\n",
    "\n",
    "# Logistic Regression 분류\n",
    "lr_model = LogisticRegression(max_iter=200)\n",
    "lr_model.fit(X_train, y_train)\n",
    "lr_pred = lr_model.predict(X_test)\n",
    "lr_accuracy = accuracy_score(y_test, lr_pred)\n",
    "print(f\"Logistic Regression 정확도: {lr_accuracy:.4f}\")\n"
   ]
  }
 ],
 "metadata": {
  "kernelspec": {
   "display_name": "Python [conda env:base] *",
   "language": "python",
   "name": "conda-base-py"
  },
  "language_info": {
   "codemirror_mode": {
    "name": "ipython",
    "version": 3
   },
   "file_extension": ".py",
   "mimetype": "text/x-python",
   "name": "python",
   "nbconvert_exporter": "python",
   "pygments_lexer": "ipython3",
   "version": "3.11.7"
  }
 },
 "nbformat": 4,
 "nbformat_minor": 5
}
